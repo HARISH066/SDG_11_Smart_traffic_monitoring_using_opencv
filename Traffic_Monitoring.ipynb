{
 "cells": [
  {
   "cell_type": "code",
   "execution_count": 7,
   "metadata": {
    "id": "0SNMyPCyj8PX",
    "scrolled": false
   },
   "outputs": [
    {
     "name": "stdout",
     "output_type": "stream",
     "text": [
      "Requirement already satisfied: opencv-python in c:\\program files\\python38\\lib\\site-packages (4.8.0.76)\n",
      "Requirement already satisfied: numpy>=1.17.0 in c:\\program files\\python38\\lib\\site-packages (from opencv-python) (1.24.3)\n"
     ]
    },
    {
     "name": "stderr",
     "output_type": "stream",
     "text": [
      "\n",
      "[notice] A new release of pip is available: 23.2.1 -> 23.3.1\n",
      "[notice] To update, run: python.exe -m pip install --upgrade pip\n"
     ]
    }
   ],
   "source": [
    "! pip install opencv-python"
   ]
  },
  {
   "cell_type": "code",
   "execution_count": 11,
   "metadata": {},
   "outputs": [
    {
     "name": "stderr",
     "output_type": "stream",
     "text": [
      "CMake Warning:\n",
      "  No source or binary directory provided.  Both will be assumed to be the\n",
      "  same as the current working directory, but note that this warning will\n",
      "  become a fatal error in future CMake releases.\n",
      "\n",
      "\n",
      "CMake Error: The source directory \"E:/ICSDG_HACKATHON\" does not appear to contain CMakeLists.txt.\n",
      "Specify --help for usage, or press the help button on the CMake GUI.\n"
     ]
    }
   ],
   "source": [
    "! cmake -D WITH_WIN32UI=ON -D WITH_GTK=ON -D WITH_COCOA=ON\n"
   ]
  },
  {
   "cell_type": "code",
   "execution_count": 8,
   "metadata": {
    "colab": {
     "base_uri": "https://localhost:8080/",
     "height": 383
    },
    "id": "A2FVwslMihbc",
    "outputId": "f3eb6c14-e5c3-4831-9ed4-c249b78a3553"
   },
   "outputs": [
    {
     "name": "stdout",
     "output_type": "stream",
     "text": [
      "Loading Object Detection\n",
      "Running opencv dnn with YOLOv4\n",
      "Monitoring Traffic...,\n",
      "{}\n",
      "CURRENT FRAME LEFT PTS\n",
      "[(571, 891), (437, 742), (1750, 635), (761, 648), (1018, 647), (928, 533), (856, 565), (612, 473), (881, 473), (1336, 980), (753, 463), (1118, 436), (942, 458), (1877, 605), (642, 435), (688, 450), (1268, 433), (1424, 466)]\n"
     ]
    },
    {
     "ename": "error",
     "evalue": "OpenCV(4.8.0) D:\\a\\opencv-python\\opencv-python\\opencv\\modules\\highgui\\src\\window.cpp:1272: error: (-2:Unspecified error) The function is not implemented. Rebuild the library with Windows, GTK+ 2.x or Cocoa support. If you are on Ubuntu or Debian, install libgtk2.0-dev and pkg-config, then re-run cmake or configure script in function 'cvShowImage'\n",
     "output_type": "error",
     "traceback": [
      "\u001b[1;31m---------------------------------------------------------------------------\u001b[0m",
      "\u001b[1;31merror\u001b[0m                                     Traceback (most recent call last)",
      "Cell \u001b[1;32mIn[8], line 126\u001b[0m\n\u001b[0;32m    122\u001b[0m \u001b[38;5;28mprint\u001b[39m(\u001b[38;5;124m\"\u001b[39m\u001b[38;5;124mCURRENT FRAME LEFT PTS\u001b[39m\u001b[38;5;124m\"\u001b[39m)\n\u001b[0;32m    123\u001b[0m \u001b[38;5;28mprint\u001b[39m(center_points_cur_frames)\n\u001b[1;32m--> 126\u001b[0m \u001b[43mcv2\u001b[49m\u001b[38;5;241;43m.\u001b[39;49m\u001b[43mimshow\u001b[49m\u001b[43m(\u001b[49m\u001b[38;5;124;43m\"\u001b[39;49m\u001b[38;5;124;43mFrame\u001b[39;49m\u001b[38;5;124;43m\"\u001b[39;49m\u001b[43m,\u001b[49m\u001b[43m \u001b[49m\u001b[43mframe\u001b[49m\u001b[43m)\u001b[49m\n\u001b[0;32m    128\u001b[0m center_points_prev_frames\u001b[38;5;241m=\u001b[39mcenter_points_cur_frames\u001b[38;5;241m.\u001b[39mcopy()\n\u001b[0;32m    132\u001b[0m \u001b[38;5;28;01mif\u001b[39;00m cv2\u001b[38;5;241m.\u001b[39mwaitKey(\u001b[38;5;241m1\u001b[39m) \u001b[38;5;241m==\u001b[39m \u001b[38;5;28mord\u001b[39m(\u001b[38;5;124m'\u001b[39m\u001b[38;5;124mq\u001b[39m\u001b[38;5;124m'\u001b[39m):\n",
      "\u001b[1;31merror\u001b[0m: OpenCV(4.8.0) D:\\a\\opencv-python\\opencv-python\\opencv\\modules\\highgui\\src\\window.cpp:1272: error: (-2:Unspecified error) The function is not implemented. Rebuild the library with Windows, GTK+ 2.x or Cocoa support. If you are on Ubuntu or Debian, install libgtk2.0-dev and pkg-config, then re-run cmake or configure script in function 'cvShowImage'\n"
     ]
    }
   ],
   "source": [
    "import cv2\n",
    "import numpy as np\n",
    "import math\n",
    "\n",
    "class ObjectDetection:\n",
    "    def __init__(self, weights_path=\"yolov4.weights\", cfg_path=\"yolov4.cfg\"):\n",
    "        print(\"Loading Object Detection\")\n",
    "        print(\"Running opencv dnn with YOLOv4\")\n",
    "        self.nmsThreshold = 0.4\n",
    "        self.confThreshold = 0.5\n",
    "        self.image_size = 608\n",
    "\n",
    "        # Load Network\n",
    "        net = cv2.dnn.readNet(weights_path, cfg_path)\n",
    "\n",
    "        # Enable GPU CUDA\n",
    "        net.setPreferableBackend(cv2.dnn.DNN_BACKEND_CUDA)\n",
    "        net.setPreferableTarget(cv2.dnn.DNN_TARGET_CUDA)\n",
    "        self.model = cv2.dnn_DetectionModel(net)\n",
    "\n",
    "        self.classes = []\n",
    "        self.load_class_names()\n",
    "        self.colors = np.random.uniform(0, 255, size=(80, 3))\n",
    "\n",
    "        self.model.setInputParams(size=(self.image_size, self.image_size), scale=1/255)\n",
    "\n",
    "    def load_class_names(self, classes_path=\"classes.txt\"):\n",
    "\n",
    "        with open(classes_path, \"r\") as file_object:\n",
    "            for class_name in file_object.readlines():\n",
    "                class_name = class_name.strip()\n",
    "                self.classes.append(class_name)\n",
    "\n",
    "        self.colors = np.random.uniform(0, 255, size=(80, 3))\n",
    "        return self.classes\n",
    "\n",
    "    def detect(self, frame):\n",
    "        return self.model.detect(frame, nmsThreshold=self.nmsThreshold, confThreshold=self.confThreshold)\n",
    "\n",
    "\n",
    "\n",
    "# initialize obj deduction\n",
    "od = ObjectDetection()\n",
    "\n",
    "cap = cv2.VideoCapture(\"los_angeles.mp4\")\n",
    "#cap.set(cv2.CAP_PROP_FPS, int(60))\n",
    "#print(\"Frame rate : {0}\".format(cap.get(cv2.CAP_PROP_FPS)))\n",
    "\n",
    "count=0\n",
    "center_points_prev_frames=[]\n",
    "\n",
    "tracking_objects={}\n",
    "track_id=0\n",
    "\n",
    "\n",
    "while True:\n",
    "    ret, frame = cap.read()\n",
    "    count+=1\n",
    "    if not ret:\n",
    "        break\n",
    "    #points current frames\n",
    "    center_points_cur_frames=[]\n",
    "\n",
    "    # deduct obj on frames\n",
    "    (class_ids, scores, boxes) = od.detect(frame)\n",
    "    for box in boxes:\n",
    "        (x,y,w,h)=box\n",
    "        cx=int((x+x+w)/2)\n",
    "        cy=int((y+y+h)/2)\n",
    "        center_points_cur_frames.append((cx,cy))\n",
    "        #print(\"FRAME N°\",count,\" \",x,y,w,h)\n",
    "        #cv2.circle(frame,(cx,cy),5,(0,0,255),-1)\n",
    "        cv2.rectangle(frame,(x,y),(x+w,y+h),(0,255,0),2)\n",
    "\n",
    "\n",
    "    if count<=2:\n",
    "        for pt in center_points_cur_frames:\n",
    "            for pt2 in center_points_prev_frames:\n",
    "                distance=math.hypot(pt2[0]-pt[0],pt2[1]-pt[1])\n",
    "\n",
    "                if distance <20:\n",
    "                    tracking_objects[track_id]=pt\n",
    "                    track_id+=1\n",
    "\n",
    "    else:\n",
    "        tracking_objects_copy=tracking_objects.copy()\n",
    "        center_points_cur_frames_copy=center_points_cur_frames.copy()\n",
    "\n",
    "        for object_id,pt2 in tracking_objects_copy.items():\n",
    "            object_exist=False\n",
    "\n",
    "            for pt in center_points_cur_frames_copy:\n",
    "                distance=math.hypot(pt2[0]-pt[0],pt2[1]-pt[1])\n",
    "                #updating object position\n",
    "                if distance<20:\n",
    "                    tracking_objects[object_id]=pt\n",
    "                    object_exist=True\n",
    "                    if pt in center_points_cur_frames:\n",
    "                        center_points_cur_frames.remove(pt)\n",
    "                        continue\n",
    "\n",
    "            if not object_exist:\n",
    "                tracking_objects.pop(object_id)\n",
    "\n",
    "        for pt in center_points_cur_frames:\n",
    "            tracking_objects[track_id]=pt\n",
    "            track_id+=1\n",
    "\n",
    "\n",
    "\n",
    "\n",
    "    for object_id,pt in tracking_objects.items():\n",
    "        cv2.circle(frame,pt,5,(0,0,255),-1)\n",
    "        cv2.putText(frame, str(object_id), (pt[0],pt[1] -7) ,0,1, (0,0,255), 2)\n",
    "\n",
    "\n",
    "\n",
    "    print(\"Monitoring Traffic...,\")\n",
    "    print(tracking_objects)\n",
    "\n",
    "\n",
    "    print(\"CURRENT FRAME LEFT PTS\")\n",
    "    print(center_points_cur_frames)\n",
    "\n",
    "\n",
    "    cv2.imshow(\"Frame\", frame)\n",
    "\n",
    "    center_points_prev_frames=center_points_cur_frames.copy()\n",
    "\n",
    "\n",
    "\n",
    "    if cv2.waitKey(1) == ord('q'):\n",
    "        break\n",
    "\n",
    "cap.release()\n",
    "cv2.destroyAllWindows()\n"
   ]
  },
  {
   "cell_type": "code",
   "execution_count": null,
   "metadata": {},
   "outputs": [],
   "source": []
  }
 ],
 "metadata": {
  "colab": {
   "provenance": []
  },
  "kernelspec": {
   "display_name": "Python 3 (ipykernel)",
   "language": "python",
   "name": "python3"
  },
  "language_info": {
   "codemirror_mode": {
    "name": "ipython",
    "version": 3
   },
   "file_extension": ".py",
   "mimetype": "text/x-python",
   "name": "python",
   "nbconvert_exporter": "python",
   "pygments_lexer": "ipython3",
   "version": "3.8.10"
  }
 },
 "nbformat": 4,
 "nbformat_minor": 1
}
